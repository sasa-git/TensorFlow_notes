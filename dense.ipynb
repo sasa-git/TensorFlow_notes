{
 "metadata": {
  "language_info": {
   "codemirror_mode": {
    "name": "ipython",
    "version": 3
   },
   "file_extension": ".py",
   "mimetype": "text/x-python",
   "name": "python",
   "nbconvert_exporter": "python",
   "pygments_lexer": "ipython3",
   "version": "3.8.5-final"
  },
  "orig_nbformat": 2,
  "kernelspec": {
   "name": "Python 3.8.5 64-bit ('tf': conda)",
   "display_name": "Python 3.8.5 64-bit ('tf': conda)",
   "metadata": {
    "interpreter": {
     "hash": "bb24cbcd71262907e03e2b6d699dde78347e96068fb3d269ac7f8ec41d54642b"
    }
   }
  }
 },
 "nbformat": 4,
 "nbformat_minor": 2,
 "cells": [
  {
   "cell_type": "code",
   "execution_count": 1,
   "metadata": {},
   "outputs": [
    {
     "output_type": "stream",
     "name": "stdout",
     "text": [
      "2.2.0\n"
     ]
    }
   ],
   "source": [
    "# %reset\n",
    "# TensorFlowとtf.kerasのインポート\n",
    "import tensorflow as tf\n",
    "from tensorflow import keras\n",
    "\n",
    "import numpy as np\n",
    "import matplotlib.pyplot as plt\n",
    "\n",
    "print(tf.__version__)"
   ]
  },
  {
   "source": [
    "JupyterでGPUを使ってるとメモリを一気に食うから以下のスクリプトを走らせる\n",
    "\n",
    "→https://qiita.com/studio_haneya/items/4dfaf2fb2ac44818e7e0\n",
    "\n",
    "TensorFlowでGPUに処理をさせる際、デフォルトではありったけのVRAMを確保しようとします。これでメモリー・リークが発生して処理ができなくなるのですが、この「最初にありったけ確保」をやめさせて、必要なだけ徐々に確保する「Memory Glowth」を行わせるには「tf.config.experimental.set_memory_growth(gpu, True)」をコールします。\n"
   ],
   "cell_type": "markdown",
   "metadata": {}
  },
  {
   "cell_type": "code",
   "execution_count": 2,
   "metadata": {},
   "outputs": [
    {
     "output_type": "stream",
     "name": "stdout",
     "text": [
      "PhysicalDevice(name='/physical_device:GPU:0', device_type='GPU') memory growth: True\n"
     ]
    }
   ],
   "source": [
    "physical_devices = tf.config.list_physical_devices('GPU')\n",
    "if len(physical_devices) > 0:\n",
    "    for device in physical_devices:\n",
    "        tf.config.experimental.set_memory_growth(device, True)\n",
    "        print('{} memory growth: {}'.format(device, tf.config.experimental.get_memory_growth(device)))\n",
    "else:\n",
    "    print(\"Not enough GPU hardware devices available\")"
   ]
  },
  {
   "cell_type": "code",
   "execution_count": 3,
   "metadata": {},
   "outputs": [
    {
     "output_type": "stream",
     "name": "stdout",
     "text": [
      "tf.Tensor(\n[[1. 2. 3. 4. 5.]\n [1. 2. 3. 4. 5.]], shape=(2, 5), dtype=float32)\n"
     ]
    }
   ],
   "source": [
    "X = tf.constant([[1., 2., 3., 4., 5.], [1., 2., 3., 4., 5.]])\n",
    "print(X)"
   ]
  },
  {
   "cell_type": "code",
   "execution_count": 4,
   "metadata": {},
   "outputs": [],
   "source": [
    "dense = keras.layers.Dense(32, kernel_initializer='ones')"
   ]
  },
  {
   "cell_type": "code",
   "execution_count": 5,
   "metadata": {},
   "outputs": [
    {
     "output_type": "stream",
     "name": "stdout",
     "text": [
      "tf.Tensor(\n[[15. 15. 15. 15. 15. 15. 15. 15. 15. 15. 15. 15. 15. 15. 15. 15. 15. 15.\n  15. 15. 15. 15. 15. 15. 15. 15. 15. 15. 15. 15. 15. 15.]\n [15. 15. 15. 15. 15. 15. 15. 15. 15. 15. 15. 15. 15. 15. 15. 15. 15. 15.\n  15. 15. 15. 15. 15. 15. 15. 15. 15. 15. 15. 15. 15. 15.]], shape=(2, 32), dtype=float32)\n"
     ]
    }
   ],
   "source": [
    "y = dense(X)\n",
    "print(y)"
   ]
  },
  {
   "cell_type": "code",
   "execution_count": 6,
   "metadata": {},
   "outputs": [
    {
     "output_type": "stream",
     "name": "stdout",
     "text": [
      "tf.Tensor(\n[[ 1.  2.  3.]\n [ 4.  5.  6.]\n [ 7.  8.  9.]\n [10. 11. 12.]], shape=(4, 3), dtype=float32)\n"
     ]
    }
   ],
   "source": [
    "# x, y, zのデータを持つ点群を想定\n",
    "X = tf.constant([[1., 2., 3.], [4., 5., 6.], [7., 8., 9.], [10., 11., 12.]])\n",
    "print(X)"
   ]
  },
  {
   "cell_type": "code",
   "execution_count": 7,
   "metadata": {},
   "outputs": [],
   "source": [
    "dense = keras.layers.Dense(32, kernel_initializer='ones')\n",
    "# 全部同じ重みのMLPをかける"
   ]
  },
  {
   "cell_type": "code",
   "execution_count": 8,
   "metadata": {},
   "outputs": [
    {
     "output_type": "stream",
     "name": "stdout",
     "text": [
      "tf.Tensor(\n[[ 6.  6.  6.  6.  6.  6.  6.  6.  6.  6.  6.  6.  6.  6.  6.  6.  6.  6.\n   6.  6.  6.  6.  6.  6.  6.  6.  6.  6.  6.  6.  6.  6.]\n [15. 15. 15. 15. 15. 15. 15. 15. 15. 15. 15. 15. 15. 15. 15. 15. 15. 15.\n  15. 15. 15. 15. 15. 15. 15. 15. 15. 15. 15. 15. 15. 15.]\n [24. 24. 24. 24. 24. 24. 24. 24. 24. 24. 24. 24. 24. 24. 24. 24. 24. 24.\n  24. 24. 24. 24. 24. 24. 24. 24. 24. 24. 24. 24. 24. 24.]\n [33. 33. 33. 33. 33. 33. 33. 33. 33. 33. 33. 33. 33. 33. 33. 33. 33. 33.\n  33. 33. 33. 33. 33. 33. 33. 33. 33. 33. 33. 33. 33. 33.]], shape=(4, 32), dtype=float32)\n"
     ]
    }
   ],
   "source": [
    "y = dense(X)\n",
    "print(y)"
   ]
  },
  {
   "cell_type": "code",
   "execution_count": 9,
   "metadata": {},
   "outputs": [
    {
     "output_type": "stream",
     "name": "stdout",
     "text": [
      "tf.Tensor(\n[[[33. 33. 33. 33. 33. 33. 33. 33. 33. 33. 33. 33. 33. 33. 33. 33. 33.\n   33. 33. 33. 33. 33. 33. 33. 33. 33. 33. 33. 33. 33. 33. 33.]]], shape=(1, 1, 32), dtype=float32)\n"
     ]
    }
   ],
   "source": [
    "# max_pool_1d = tf.keras.layers.MaxPooling1D(pool_size=2, strides=2, padding='valid')\n",
    "max_pool_1d = tf.keras.layers.MaxPooling1D(pool_size=4, strides=1, padding='valid')\n",
    "# poolsizeを点群数に指定してMaxPooling\n",
    "reshaped_y = tf.reshape(y, [1, 4, 32])\n",
    "out = max_pool_1d(reshaped_y)\n",
    "print(out)\n",
    "# これで、n個の点群を32の特徴量にすることができた"
   ]
  },
  {
   "cell_type": "code",
   "execution_count": null,
   "metadata": {},
   "outputs": [],
   "source": []
  }
 ]
}